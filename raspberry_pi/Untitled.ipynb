{
 "cells": [
  {
   "cell_type": "code",
   "execution_count": 1,
   "metadata": {},
   "outputs": [],
   "source": [
    "import inputs_pb2"
   ]
  },
  {
   "cell_type": "code",
   "execution_count": 22,
   "metadata": {},
   "outputs": [],
   "source": [
    "inputs = inputs_pb2.Input()"
   ]
  },
  {
   "cell_type": "code",
   "execution_count": 38,
   "metadata": {},
   "outputs": [
    {
     "data": {
      "text/plain": [
       "['a',\n",
       " 'b',\n",
       " 'x',\n",
       " 'y',\n",
       " 'right_bumper',\n",
       " 'left_bumper',\n",
       " 'menu',\n",
       " 'left_trigger',\n",
       " 'right_trigger',\n",
       " 'up',\n",
       " 'right',\n",
       " 'down',\n",
       " 'left',\n",
       " 'left_stick',\n",
       " 'right_stick',\n",
       " 'left_x_axis',\n",
       " 'left_y_axis',\n",
       " 'right_x_axis',\n",
       " 'right_y_axis']"
      ]
     },
     "execution_count": 38,
     "metadata": {},
     "output_type": "execute_result"
    }
   ],
   "source": [
    "list(inputs.DESCRIPTOR.fields_by_name)"
   ]
  }
 ],
 "metadata": {
  "kernelspec": {
   "display_name": "Python 3",
   "language": "python",
   "name": "python3"
  },
  "language_info": {
   "codemirror_mode": {
    "name": "ipython",
    "version": 3
   },
   "file_extension": ".py",
   "mimetype": "text/x-python",
   "name": "python",
   "nbconvert_exporter": "python",
   "pygments_lexer": "ipython3",
   "version": "3.6.6"
  }
 },
 "nbformat": 4,
 "nbformat_minor": 2
}
